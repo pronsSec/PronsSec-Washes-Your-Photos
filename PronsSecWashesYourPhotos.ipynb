{
  "nbformat": 4,
  "nbformat_minor": 0,
  "metadata": {
    "colab": {
      "name": "PronsSecWashesYourPhotos.ipynb",
      "private_outputs": true,
      "provenance": [],
      "collapsed_sections": [],
      "authorship_tag": "ABX9TyNCFLXELyqaW6DOLvXUzScz",
      "include_colab_link": true
    },
    "kernelspec": {
      "name": "python3",
      "display_name": "Python 3"
    },
    "language_info": {
      "name": "python"
    }
  },
  "cells": [
    {
      "cell_type": "markdown",
      "metadata": {
        "id": "view-in-github",
        "colab_type": "text"
      },
      "source": [
        "<a href=\"https://colab.research.google.com/github/pronsSec/PronsSec-Washes-Your-Photos/blob/main/PronsSecWashesYourPhotos.ipynb\" target=\"_parent\"><img src=\"https://colab.research.google.com/assets/colab-badge.svg\" alt=\"Open In Colab\"/></a>"
      ]
    },
    {
      "cell_type": "markdown",
      "source": [
        "```\n",
        "P)ppppp                                      S)ssss                  \n",
        "P)    pp                                    S)    ss                 \n",
        "P)ppppp   r)RRR   o)OOO  n)NNNN   s)SSSS     S)ss    e)EEEEE  c)CCCC \n",
        "P)       r)   RR o)   OO n)   NN s)SSSS          S)  e)EEEE  c)      \n",
        "P)       r)      o)   OO n)   NN      s)    S)    ss e)      c)      \n",
        "P)       r)       o)OOO  n)   NN s)SSSS      S)ssss   e)EEEE  c)CCCC \n",
        "                                                                     \n",
        "                                                                     \n",
        "  C)ccc  l)L                                  \n",
        " C)   cc  l)                                  \n",
        "C)        l)  e)EEEEE a)AAAA  n)NNNN   s)SSSS \n",
        "C)        l)  e)EEEE   a)AAA  n)   NN s)SSSS  \n",
        " C)   cc  l)  e)      a)   A  n)   NN      s) \n",
        "  C)ccc  l)LL  e)EEEE  a)AAAA n)   NN s)SSSS  \n",
        "                                              \n",
        "                                              \n",
        "Y)    yy                            D)dddd   ##           t)           \n",
        " Y)  yy                             D)   dd             t)tTTT         \n",
        "  Y)yy    o)OOO  u)   UU  r)RRR     D)    dd i)  r)RRR    t)   y)   YY \n",
        "   Y)    o)   OO u)   UU r)   RR    D)    dd i) r)   RR   t)   y)   YY \n",
        "   Y)    o)   OO u)   UU r)         D)    dd i) r)        t)   y)   YY \n",
        "   Y)     o)OOO   u)UUU  r)         D)ddddd  i) r)        t)T   y)YYYY \n",
        "                                                                    y) \n",
        "                                                               y)YYYY  \n",
        "P)ppppp  h)                t)                   \n",
        "P)    pp h)              t)tTTT                 \n",
        "P)ppppp  h)HHHH   o)OOO    t)    o)OOO   s)SSSS \n",
        "P)       h)   HH o)   OO   t)   o)   OO s)SSSS  \n",
        "P)       h)   HH o)   OO   t)   o)   OO      s) \n",
        "P)       h)   HH  o)OOO    t)T   o)OOO  s)SSSS  \n",
        "```\n",
        "\n",
        "**By: @Been_Wild**   \n",
        "---\n",
        "---                                             "
      ],
      "metadata": {
        "id": "Uphbkk77j3aE"
      }
    },
    {
      "cell_type": "code",
      "source": [
        "#@title Click here to upload your photos. { display-mode: \"form\" }\n",
        "#@markdown ---\n",
        "#@markdown Add as many as you would like. \n",
        "\n",
        "from IPython.display import clear_output\n",
        "!apt install libimage-exiftool-perl\n",
        "%mkdir photos\n",
        "%cd photos\n",
        "clear_output()\n",
        "from google.colab import files\n",
        "art1 = '''\n",
        "\n",
        "U)    uu         l)L                       d) \n",
        "U)    uu          l)                       d) \n",
        "U)    uu p)PPPP   l)   o)OOO  a)AAAA   d)DDDD \n",
        "U)    uu p)   PP  l)  o)   OO  a)AAA  d)   DD \n",
        "U)    uu p)   PP  l)  o)   OO a)   A  d)   DD \n",
        " U)uuuu  p)PPPP  l)LL  o)OOO   a)AAAA  d)DDDD \n",
        "         p)                                   \n",
        "         p)                                   \n",
        "Y)    yy                         \n",
        " Y)  yy                          \n",
        "  Y)yy    o)OOO  u)   UU  r)RRR  \n",
        "   Y)    o)   OO u)   UU r)   RR \n",
        "   Y)    o)   OO u)   UU r)      \n",
        "   Y)     o)OOO   u)UUU  r)      \n",
        "                                 \n",
        "                                 \n",
        "P)ppppp  h)                t)                   \n",
        "P)    pp h)              t)tTTT                 \n",
        "P)ppppp  h)HHHH   o)OOO    t)    o)OOO   s)SSSS \n",
        "P)       h)   HH o)   OO   t)   o)   OO s)SSSS  \n",
        "P)       h)   HH o)   OO   t)   o)   OO      s) \n",
        "P)       h)   HH  o)OOO    t)T   o)OOO  s)SSSS  \n",
        "'''\n",
        "\n",
        "print(art1)\n",
        "print('-'*45)\n",
        "\n",
        "uploaded = files.upload()\n",
        "clear_output()\n",
        "for fn in uploaded.keys():\n",
        "  print('User uploaded folder \"{name}\" with length {length} bytes'.format(\n",
        "      name=fn, length=len(uploaded[fn])))"
      ],
      "metadata": {
        "id": "A1Xw5bwhSaKU"
      },
      "execution_count": null,
      "outputs": []
    },
    {
      "cell_type": "markdown",
      "source": [
        "---"
      ],
      "metadata": {
        "id": "qv799PzNoORg"
      }
    },
    {
      "cell_type": "code",
      "source": [
        "#@title Check the original metadata. { display-mode: \"form\" }\n",
        "#@markdown ---\n",
        "#@markdown You can skip this if you would like. \n",
        "art = '''\n",
        "L)                 t)      U)    uu             S)ssss                  \n",
        "L)               t)tTTT    U)    uu            S)    ss                 \n",
        "L)       e)EEEEE   t)      U)    uu  s)SSSS     S)ss    e)EEEEE e)EEEEE \n",
        "L)       e)EEEE    t)      U)    uu s)SSSS          S)  e)EEEE  e)EEEE  \n",
        "L)       e)        t)      U)    uu      s)    S)    ss e)      e)      \n",
        "L)llllll  e)EEEE   t)T      U)uuuu  s)SSSS      S)ssss   e)EEEE  e)EEEE \n",
        "                                                                        \n",
        "                                                                        \n",
        "H)    hh                       B)bbbb                d)    I)iiii   t)   \n",
        "H)    hh                       B)   bb               d)      I)   t)tTTT \n",
        "H)hhhhhh  o)OOO  w)      WW    B)bbbb   a)AAAA   d)DDDD      I)     t)   \n",
        "H)    hh o)   OO w)  WW  WW    B)   bb   a)AAA  d)   DD      I)     t)   \n",
        "H)    hh o)   OO w)  WW  WW    B)    bb a)   A  d)   DD      I)     t)   \n",
        "H)    hh  o)OOO   w)WW WWW     B)bbbbb   a)AAAA  d)DDDD    I)iiii   t)T  \n",
        "                                                                         \n",
        "                                                                         \n",
        "I)iiii         \n",
        "  I)           \n",
        "  I)    s)SSSS \n",
        "  I)   s)SSSS  \n",
        "  I)        s) \n",
        "I)iiii s)SSSS  \n",
        "'''\n",
        "\n",
        "print(art)\n",
        "print('-'*45)\n",
        "\n",
        "%cd ..\n",
        "!exiftool -recurse photos"
      ],
      "metadata": {
        "id": "QsGyac1YRVQU"
      },
      "execution_count": null,
      "outputs": []
    },
    {
      "cell_type": "markdown",
      "source": [
        "---"
      ],
      "metadata": {
        "id": "M3yJfmg8oVoy"
      }
    },
    {
      "cell_type": "code",
      "source": [
        "#@title Remove Your Metadata! { display-mode: \"form\" }\n",
        "#@markdown ---\n",
        "#@markdown This will save the original with \"_original\"\n",
        "\n",
        "art3 = '''\n",
        "                                                         \n",
        "n)NNNN   o)OOO   m)MM MMM     n)NNNN   o)OOO   m)MM MMM  \n",
        "n)   NN o)   OO m)  MM  MM    n)   NN o)   OO m)  MM  MM \n",
        "n)   NN o)   OO m)  MM  MM    n)   NN o)   OO m)  MM  MM \n",
        "n)   NN  o)OOO  m)      MM    n)   NN  o)OOO  m)      MM \n",
        "                                                         \n",
        "                                                         \n",
        "b)                         b)                      \n",
        "b)                         b)                      \n",
        "b)BBBB  y)   YY e)EEEEE    b)BBBB  y)   YY e)EEEEE \n",
        "b)   BB y)   YY e)EEEE     b)   BB y)   YY e)EEEE  \n",
        "b)   BB y)   YY e)         b)   BB y)   YY e)      \n",
        "b)BBBB   y)YYYY  e)EEEE    b)BBBB   y)YYYY  e)EEEE \n",
        "             y)                         y)         \n",
        "        y)YYYY                     y)YYYY          \n",
        "     d)           t)           \n",
        "     d)         t)tTTT         \n",
        " d)DDDD a)AAAA    t)   a)AAAA  \n",
        "d)   DD  a)AAA    t)    a)AAA  \n",
        "d)   DD a)   A    t)   a)   A  \n",
        " d)DDDD  a)AAAA   t)T   a)AAAA \n",
        "'''\n",
        "\n",
        "print(art3)\n",
        "print('-'*45)\n",
        "\n",
        "!exiftool -recurse -all= photos"
      ],
      "metadata": {
        "id": "b9st6oDGRVS7"
      },
      "execution_count": null,
      "outputs": []
    },
    {
      "cell_type": "markdown",
      "source": [
        "---"
      ],
      "metadata": {
        "id": "JNo3ZVS_oV0Q"
      }
    },
    {
      "cell_type": "code",
      "source": [
        "#@title Check the results! { display-mode: \"form\" }\n",
        "#@markdown ---\n",
        "\n",
        "art4 = '''\n",
        " S)ssss              f)FFF                         h)      \n",
        "S)    ss            f)                             h)      \n",
        " S)ss     o)OOO     f)FFF   r)RRR  e)EEEEE  s)SSSS h)HHHH  \n",
        "     S)  o)   OO    f)     r)   RR e)EEEE  s)SSSS  h)   HH \n",
        "S)    ss o)   OO    f)     r)      e)           s) h)   HH \n",
        " S)ssss   o)OOO     f)     r)       e)EEEE s)SSSS  h)   HH \n",
        "                                                           \n",
        "                                                           \n",
        "                     d)            l)L                                     \n",
        "                     d)             l)                                     \n",
        "a)AAAA  n)NNNN   d)DDDD    a)AAAA   l)   s)SSSS  o)OOO      s)SSSS  o)OOO  \n",
        " a)AAA  n)   NN d)   DD     a)AAA   l)  s)SSSS  o)   OO    s)SSSS  o)   OO \n",
        "a)   A  n)   NN d)   DD    a)   A   l)       s) o)   OO         s) o)   OO \n",
        " a)AAAA n)   NN  d)DDDD     a)AAAA l)LL s)SSSS   o)OOO     s)SSSS   o)OOO  \n",
        "                                                                           \n",
        "                                                                           \n",
        "        l)L                          \n",
        "         l)                          \n",
        " c)CCCC  l)  e)EEEEE a)AAAA  n)NNNN  \n",
        "c)       l)  e)EEEE   a)AAA  n)   NN \n",
        "c)       l)  e)      a)   A  n)   NN \n",
        " c)CCCC l)LL  e)EEEE  a)AAAA n)   NN \n",
        "'''\n",
        "print(art4)\n",
        "print('-'*45)\n",
        "\n",
        "!exiftool -recurse photos"
      ],
      "metadata": {
        "id": "tIC3stiSRVVn"
      },
      "execution_count": null,
      "outputs": []
    }
  ]
}